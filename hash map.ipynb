{
 "cells": [
  {
   "cell_type": "code",
   "execution_count": 45,
   "metadata": {
    "collapsed": true
   },
   "outputs": [],
   "source": [
    "import hashlib"
   ]
  },
  {
   "cell_type": "code",
   "execution_count": 76,
   "metadata": {},
   "outputs": [
    {
     "data": {
      "text/plain": [
       "'2ef7bde608ce5404e97d5f042f95f89f1c232871'"
      ]
     },
     "execution_count": 76,
     "metadata": {},
     "output_type": "execute_result"
    }
   ],
   "source": [
    "file = open('test.txt','r')\n",
    "file.read()\n",
    "\n",
    "sha1_object=hashlib.sha1(b'Hello World!')\n",
    "sha1_object.hexdigest()\n",
    "#sha1_object.update(b\"and this too\")\n",
    "#sha1_object.hexdigest()\n",
    "#sha1_object.copy().hexdigest()\n"
   ]
  },
  {
   "cell_type": "code",
   "execution_count": 85,
   "metadata": {},
   "outputs": [
    {
     "data": {
      "text/plain": [
       "'113e75afec77b12169d9e78d8fe3268d2153188794ec325bf86686c220961e7c'"
      ]
     },
     "execution_count": 85,
     "metadata": {},
     "output_type": "execute_result"
    }
   ],
   "source": [
    "import hashlib\n",
    "\n",
    "def file_hash(filename):\n",
    "  h = hashlib.sha256()\n",
    "  with open(filename, 'rb', buffering=0) as f:\n",
    "    for b in iter(lambda : f.read(128*1024), b''):\n",
    "      h.update(b)\n",
    "  return h.hexdigest()\n",
    "\n",
    "file_hash('test.txt')\n",
    "\n"
   ]
  },
  {
   "cell_type": "code",
   "execution_count": 86,
   "metadata": {},
   "outputs": [
    {
     "data": {
      "text/plain": [
       "'113e75afec77b12169d9e78d8fe3268d2153188794ec325bf86686c220961e7c'"
      ]
     },
     "execution_count": 86,
     "metadata": {},
     "output_type": "execute_result"
    }
   ],
   "source": [
    "file_hash('test1.txt')"
   ]
  },
  {
   "cell_type": "code",
   "execution_count": null,
   "metadata": {
    "collapsed": true
   },
   "outputs": [],
   "source": []
  },
  {
   "cell_type": "code",
   "execution_count": null,
   "metadata": {
    "collapsed": true
   },
   "outputs": [],
   "source": []
  }
 ],
 "metadata": {
  "kernelspec": {
   "display_name": "Python 3",
   "language": "python",
   "name": "python3"
  },
  "language_info": {
   "codemirror_mode": {
    "name": "ipython",
    "version": 3
   },
   "file_extension": ".py",
   "mimetype": "text/x-python",
   "name": "python",
   "nbconvert_exporter": "python",
   "pygments_lexer": "ipython3",
   "version": "3.6.3"
  }
 },
 "nbformat": 4,
 "nbformat_minor": 2
}
